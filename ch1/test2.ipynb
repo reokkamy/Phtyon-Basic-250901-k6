{
 "cells": [
  {
   "metadata": {
    "ExecuteTime": {
     "end_time": "2025-09-01T02:15:55.651Z",
     "start_time": "2025-09-01T02:15:55.646666Z"
    }
   },
   "cell_type": "code",
   "source": "print(\"헬로우 파이썬\")",
   "id": "8dc598f111e163f9",
   "outputs": [
    {
     "name": "stdout",
     "output_type": "stream",
     "text": [
      "헬로우 파이썬\n"
     ]
    }
   ],
   "execution_count": 1
  },
  {
   "metadata": {
    "ExecuteTime": {
     "end_time": "2025-09-01T02:25:42.980838Z",
     "start_time": "2025-09-01T02:25:42.977695Z"
    }
   },
   "cell_type": "code",
   "source": "print(\"작업중\")",
   "id": "d6047d473c68d158",
   "outputs": [
    {
     "name": "stdout",
     "output_type": "stream",
     "text": [
      "작업중\n"
     ]
    }
   ],
   "execution_count": 2
  },
  {
   "metadata": {
    "ExecuteTime": {
     "end_time": "2025-09-01T02:26:43.975140Z",
     "start_time": "2025-09-01T02:26:43.970232Z"
    }
   },
   "cell_type": "code",
   "source": [
    "a = int(10.3)\n",
    "print(a)\n",
    "b = float(a)\n",
    "print(b)"
   ],
   "id": "56c03f195da07520",
   "outputs": [
    {
     "name": "stdout",
     "output_type": "stream",
     "text": [
      "10\n",
      "10.0\n"
     ]
    }
   ],
   "execution_count": 4
  },
  {
   "metadata": {
    "ExecuteTime": {
     "end_time": "2025-09-01T02:30:38.627233Z",
     "start_time": "2025-09-01T02:30:38.623653Z"
    }
   },
   "cell_type": "code",
   "source": [
    "x = str(123)\n",
    "print(x)\n",
    "print(type(x))"
   ],
   "id": "9f5ef5c95897f5e4",
   "outputs": [
    {
     "name": "stdout",
     "output_type": "stream",
     "text": [
      "123\n",
      "<class 'str'>\n"
     ]
    }
   ],
   "execution_count": 6
  },
  {
   "metadata": {
    "ExecuteTime": {
     "end_time": "2025-09-01T02:31:21.591151Z",
     "start_time": "2025-09-01T02:31:21.587478Z"
    }
   },
   "cell_type": "code",
   "source": [
    "print(1 == True)\n",
    "print(\"\" == False)"
   ],
   "id": "76dfb00b2c7a6d67",
   "outputs": [
    {
     "name": "stdout",
     "output_type": "stream",
     "text": [
      "True\n",
      "False\n"
     ]
    }
   ],
   "execution_count": 8
  },
  {
   "metadata": {
    "ExecuteTime": {
     "end_time": "2025-09-01T02:35:22.361902Z",
     "start_time": "2025-09-01T02:35:22.356485Z"
    }
   },
   "cell_type": "code",
   "source": [
    "a = '76.3'\n",
    "b= float(a)\n",
    "c = 2.3\n",
    "# print(a+b)\n",
    "print(b + c)\n",
    "print(type(a))\n",
    "print(type(b))\n",
    "print(type(c))"
   ],
   "id": "8e488b1fc9eaff7f",
   "outputs": [
    {
     "name": "stdout",
     "output_type": "stream",
     "text": [
      "78.6\n",
      "<class 'str'>\n",
      "<class 'float'>\n",
      "<class 'float'>\n"
     ]
    }
   ],
   "execution_count": 11
  },
  {
   "metadata": {
    "ExecuteTime": {
     "end_time": "2025-09-01T02:38:02.670189Z",
     "start_time": "2025-09-01T02:38:02.665012Z"
    }
   },
   "cell_type": "code",
   "source": [
    "# 출력방식,\n",
    "# 1. % 연산자 방식\n",
    "name = \"상용\"\n",
    "age = 42\n",
    "print(\"이름 : %s, 나이 : %d\" % (name, age))"
   ],
   "id": "81483719029fa6",
   "outputs": [
    {
     "name": "stdout",
     "output_type": "stream",
     "text": [
      "이름 : 상용, 나이 : 42\n"
     ]
    }
   ],
   "execution_count": 12
  },
  {
   "metadata": {
    "ExecuteTime": {
     "end_time": "2025-09-01T02:39:31.981440Z",
     "start_time": "2025-09-01T02:39:31.976814Z"
    }
   },
   "cell_type": "code",
   "source": [
    "# f-string 형식 (파이썬 3.6 +권장)\n",
    "# 개인적으로 이방식으로 출력하는 것을 추천함.\n",
    "name = \"상용\"\n",
    "age = 42\n",
    "print(f\"이름 : {name}, 나이 : {age}\")"
   ],
   "id": "c19e8511793c3a4e",
   "outputs": [
    {
     "name": "stdout",
     "output_type": "stream",
     "text": [
      "이름 : 상용, 나이 : 42\n"
     ]
    }
   ],
   "execution_count": 13
  },
  {
   "metadata": {},
   "cell_type": "code",
   "outputs": [],
   "execution_count": null,
   "source": [
    "print(\"오늘 점심 뭐 먹죠?\")\n",
    "lunch = input()\n",
    "print(f\"오늘 먹을 점심 메뉴 : {lunch}\")"
   ],
   "id": "4f5a0d2912d55bfc"
  },
  {
   "metadata": {
    "ExecuteTime": {
     "end_time": "2025-09-01T02:50:21.425546Z",
     "start_time": "2025-09-01T02:50:16.485497Z"
    }
   },
   "cell_type": "code",
   "source": [
    "lunch = input(\"오늘 점심 뭐 먹죠2?\")\n",
    "print(f\"오늘 먹을 점심 메뉴2 : {lunch}\")"
   ],
   "id": "c1d19dd4300d0b1",
   "outputs": [
    {
     "name": "stdout",
     "output_type": "stream",
     "text": [
      "오늘 먹을 점심 메뉴2 : 찌개\n",
      "\n"
     ]
    }
   ],
   "execution_count": 6
  },
  {
   "metadata": {
    "ExecuteTime": {
     "end_time": "2025-09-01T05:03:34.806250Z",
     "start_time": "2025-09-01T05:03:34.801855Z"
    }
   },
   "cell_type": "code",
   "source": [
    "a = [1,2,3]\n",
    "b = [4,5,6]\n",
    "print(a)\n",
    "print(b)\n",
    "print(a[0:2])\n",
    "print(b[-2:])"
   ],
   "id": "6a042407d6b4e2e3",
   "outputs": [
    {
     "name": "stdout",
     "output_type": "stream",
     "text": [
      "[1, 2, 3]\n",
      "[4, 5, 6]\n",
      "[1, 2]\n",
      "[5, 6]\n"
     ]
    }
   ],
   "execution_count": 9
  },
  {
   "metadata": {
    "ExecuteTime": {
     "end_time": "2025-09-01T06:19:08.877234Z",
     "start_time": "2025-09-01T06:19:03.458527Z"
    }
   },
   "cell_type": "code",
   "source": [
    "print(\"enthe your name\")\n",
    "some = input()\n",
    "print(\"hi,somebody,how are you today?\")"
   ],
   "id": "a25923fdcee2da49",
   "outputs": [
    {
     "name": "stdout",
     "output_type": "stream",
     "text": [
      "enthe your name\n",
      "hi,somebody,how are you today?\n"
     ]
    }
   ],
   "execution_count": 10
  },
  {
   "metadata": {
    "ExecuteTime": {
     "end_time": "2025-09-01T06:33:26.623135Z",
     "start_time": "2025-09-01T06:33:22.762219Z"
    }
   },
   "cell_type": "code",
   "source": [
    "cel = input()\n",
    "faren = (float(cel) * 1.8) + 32\n",
    "\n",
    "print(\"섭씨온도:\", cel)\n",
    "print(\"화씨온도:\", faren)"
   ],
   "id": "1463e5d8d06dda26",
   "outputs": [
    {
     "name": "stdout",
     "output_type": "stream",
     "text": [
      "섭씨온도: 32.2\n",
      "\n",
      "화씨온도: 89.96000000000001\n"
     ]
    }
   ],
   "execution_count": 14
  },
  {
   "metadata": {
    "ExecuteTime": {
     "end_time": "2025-09-01T06:35:52.501973Z",
     "start_time": "2025-09-01T06:35:52.497184Z"
    }
   },
   "cell_type": "code",
   "source": [
    "colors = ['red', 'green', 'blue', 'yellow', 'magenta', 'cyan']\n",
    "print(colors[0])\n",
    "print(colors[5])"
   ],
   "id": "4d48508728b718ef",
   "outputs": [
    {
     "name": "stdout",
     "output_type": "stream",
     "text": [
      "red\n",
      "cyan\n"
     ]
    }
   ],
   "execution_count": 15
  },
  {
   "metadata": {
    "ExecuteTime": {
     "end_time": "2025-09-01T05:11:38.183913Z",
     "start_time": "2025-09-01T05:11:38.178679Z"
    }
   },
   "cell_type": "code",
   "source": [
    "a = [1,2,3]\n",
    "b = [4,5,6]\n",
    "print(a)\n",
    "print(b)\n",
    "print(a[0:2])\n",
    "print(b[-2:])\n",
    "a.append(100)\n",
    "print(a[:])\n",
    "a.extend(b)\n",
    "print(a)\n",
    "print(a[::-1])\n",
    "print(a[::2])\n",
    "c = a + b\n",
    "print(c)"
   ],
   "id": "30844f16819167b9",
   "outputs": [
    {
     "name": "stdout",
     "output_type": "stream",
     "text": [
      "[1, 2, 3]\n",
      "[4, 5, 6]\n",
      "[1, 2]\n",
      "[5, 6]\n",
      "[1, 2, 3, 100]\n",
      "[1, 2, 3, 100, 4, 5, 6]\n",
      "[6, 5, 4, 100, 3, 2, 1]\n",
      "[1, 3, 4, 6]\n",
      "[1, 2, 3, 100, 4, 5, 6, 4, 5, 6]\n"
     ]
    }
   ],
   "execution_count": 27
  },
  {
   "metadata": {
    "ExecuteTime": {
     "end_time": "2025-09-01T05:17:22.327707Z",
     "start_time": "2025-09-01T05:17:22.323356Z"
    }
   },
   "cell_type": "code",
   "source": [
    "a = [1,2,3]\n",
    "a.insert(1,100)\n",
    "print(a)\n",
    "a.remove(100)\n",
    "print(a)"
   ],
   "id": "ad9c66b32a4cfeaf",
   "outputs": [
    {
     "name": "stdout",
     "output_type": "stream",
     "text": [
      "[1, 100, 2, 3]\n",
      "[1, 2, 3]\n"
     ]
    }
   ],
   "execution_count": 31
  },
  {
   "metadata": {
    "ExecuteTime": {
     "end_time": "2025-09-01T05:58:49.725249Z",
     "start_time": "2025-09-01T05:58:49.721891Z"
    }
   },
   "cell_type": "code",
   "source": [
    "if 3>4:\n",
    "  print('참')\n",
    "else:\n",
    "  print('거짓')"
   ],
   "id": "2a38fce0a5782345",
   "outputs": [
    {
     "name": "stdout",
     "output_type": "stream",
     "text": [
      "거짓\n"
     ]
    }
   ],
   "execution_count": 33
  },
  {
   "metadata": {
    "ExecuteTime": {
     "end_time": "2025-09-01T06:06:03.322124Z",
     "start_time": "2025-09-01T06:06:03.314918Z"
    }
   },
   "cell_type": "code",
   "source": [
    "for i in range(0,10,2):\n",
    "  print(i)"
   ],
   "id": "4ebfcdd422dff7c6",
   "outputs": [
    {
     "name": "stdout",
     "output_type": "stream",
     "text": [
      "0\n",
      "2\n",
      "4\n",
      "6\n",
      "8\n"
     ]
    }
   ],
   "execution_count": 34
  },
  {
   "metadata": {
    "ExecuteTime": {
     "end_time": "2025-09-01T06:08:25.843731Z",
     "start_time": "2025-09-01T06:08:25.835681Z"
    }
   },
   "cell_type": "code",
   "source": [
    "for i in range(10,1,-1):\n",
    "  print(i)"
   ],
   "id": "1532396649f1e894",
   "outputs": [
    {
     "name": "stdout",
     "output_type": "stream",
     "text": [
      "10\n",
      "9\n",
      "8\n",
      "7\n",
      "6\n",
      "5\n",
      "4\n",
      "3\n",
      "2\n"
     ]
    }
   ],
   "execution_count": 35
  },
  {
   "metadata": {},
   "cell_type": "code",
   "outputs": [],
   "execution_count": null,
   "source": "",
   "id": "810becdae248f898"
  }
 ],
 "metadata": {
  "kernelspec": {
   "name": "python3",
   "language": "python",
   "display_name": "Python 3 (ipykernel)"
  }
 },
 "nbformat": 4,
 "nbformat_minor": 5
}
